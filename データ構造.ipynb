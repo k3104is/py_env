{
 "cells": [
  {
   "cell_type": "markdown",
   "id": "enhanced-quantity",
   "metadata": {},
   "source": [
    "### 自己参照構造体(self-referencing structure)"
   ]
  },
  {
   "cell_type": "code",
   "execution_count": 25,
   "id": "outer-magnitude",
   "metadata": {},
   "outputs": [],
   "source": [
    "class Node:\n",
    "    def __init__(self):\n",
    "        pass\n",
    "    \n",
    "    def get_name(self):\n",
    "        return self.name\n",
    "    \n",
    "    def set_name(self, name):\n",
    "        self.name = name\n",
    "        \n",
    "    def get_ref_prev(self, ):\n",
    "        return self.__ref_prev\n",
    "    \n",
    "    def set_ref_prev(self, ref_prev):\n",
    "        self.__ref_prev = ref_prev"
   ]
  },
  {
   "cell_type": "code",
   "execution_count": 26,
   "id": "green-bridal",
   "metadata": {},
   "outputs": [],
   "source": [
    "# リストにノード追加\n",
    "def add_node(name, ref_crnt):\n",
    "    ref_next = Node()\n",
    "    ref_next.set_name(name)\n",
    "    ref_next.set_ref_prev(ref_crnt)\n",
    "    return ref_next\n",
    "\n",
    "# リストのノードを全て表示\n",
    "def print_all_nodes(ref_crnt):\n",
    "    while(ref_crnt != None):\n",
    "        print('Current name: ' + ref_crnt.get_name())\n",
    "        ref_crnt = ref_crnt.get_ref_prev()"
   ]
  },
  {
   "cell_type": "code",
   "execution_count": 32,
   "id": "progressive-extra",
   "metadata": {},
   "outputs": [],
   "source": [
    "ref_crnt = None"
   ]
  },
  {
   "cell_type": "code",
   "execution_count": 33,
   "id": "specified-growing",
   "metadata": {},
   "outputs": [],
   "source": [
    "ref_crnt = add_node(\"tanaka\", ref_crnt)\n",
    "ref_crnt = add_node(\"takada\", ref_crnt)"
   ]
  },
  {
   "cell_type": "code",
   "execution_count": 34,
   "id": "beautiful-pointer",
   "metadata": {},
   "outputs": [
    {
     "name": "stdout",
     "output_type": "stream",
     "text": [
      "Current name: takada\n",
      "Current name: tanaka\n"
     ]
    }
   ],
   "source": [
    "print_all_nodes(ref_crnt)"
   ]
  },
  {
   "cell_type": "code",
   "execution_count": 24,
   "id": "incomplete-enzyme",
   "metadata": {},
   "outputs": [
    {
     "name": "stdout",
     "output_type": "stream",
     "text": [
      "<__main__.Node object at 0x106654940>\n"
     ]
    }
   ],
   "source": [
    "print(ref_crnt)"
   ]
  },
  {
   "cell_type": "code",
   "execution_count": null,
   "id": "palestinian-saying",
   "metadata": {},
   "outputs": [],
   "source": []
  }
 ],
 "metadata": {
  "kernelspec": {
   "display_name": "Python 3",
   "language": "python",
   "name": "python3"
  },
  "language_info": {
   "codemirror_mode": {
    "name": "ipython",
    "version": 3
   },
   "file_extension": ".py",
   "mimetype": "text/x-python",
   "name": "python",
   "nbconvert_exporter": "python",
   "pygments_lexer": "ipython3",
   "version": "3.8.7"
  }
 },
 "nbformat": 4,
 "nbformat_minor": 5
}
