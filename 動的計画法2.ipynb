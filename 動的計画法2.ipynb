{
 "cells": [
  {
   "cell_type": "markdown",
   "metadata": {},
   "source": [
    "### ナップサック問題\n",
    "N個の品物があり、i(=0,1,...,N-1)番目の品物の重さは`witght[i]`, `価値はvalue[i]`で与えられる。\n",
    "このN個の品物から、重さのWを超えないようにいくつか選ぶ。\n",
    "選んだ品物の価値の総和として考えられる最大値を求める。\n",
    "\n",
    "`dp[i][w]`<-最初のi個の品物{0,1,...,i-1}までの中から重さがを超えないように選んだ時の、価値の総和の最大値"
   ]
  },
  {
   "cell_type": "markdown",
   "metadata": {},
   "source": [
    "品物が6個で\n",
    "(weight, value) = {(2, 3), (1, 2), (3, 6), (2, 1), (1, 3), (5, 85)}の場合"
   ]
  },
  {
   "cell_type": "markdown",
   "metadata": {},
   "source": [
    "インポート"
   ]
  },
  {
   "cell_type": "code",
   "execution_count": 1,
   "metadata": {},
   "outputs": [],
   "source": [
    "import numpy as np"
   ]
  },
  {
   "cell_type": "markdown",
   "metadata": {},
   "source": [
    "初期設定"
   ]
  },
  {
   "cell_type": "code",
   "execution_count": 20,
   "metadata": {},
   "outputs": [
    {
     "name": "stdout",
     "output_type": "stream",
     "text": [
      "品物の数/重さの閾値\n",
      "6 9\n",
      "重さ/価値\n",
      "2 3\n",
      "1 2\n",
      "3 6\n",
      "2 1\n",
      "1 3\n",
      "5 85\n"
     ]
    }
   ],
   "source": [
    "print(\"品物の数/重さの閾値\")\n",
    "N, W = map(int, input().split())\n",
    "print(\"重さ/価値\")\n",
    "wv = [list(map(int, input().split())) for _ in range(N)]\n",
    "dp = [[0] * (W + 1) for _ in range(N + 1)]"
   ]
  },
  {
   "cell_type": "markdown",
   "metadata": {},
   "source": [
    "処理"
   ]
  },
  {
   "cell_type": "code",
   "execution_count": 27,
   "metadata": {},
   "outputs": [
    {
     "name": "stdout",
     "output_type": "stream",
     "text": [
      "95\n"
     ]
    }
   ],
   "source": [
    "for i, (w, v) in enumerate(wv):\n",
    "    for j in range(W + 1):\n",
    "        if(j - w >= 0):\n",
    "            dp[i + 1][j] = max(dp[i + 1][j], dp[i][j - w] + v)\n",
    "        else:\n",
    "            dp[i + 1][j] = max(dp[i + 1][w], dp[i][w])\n",
    "print(dp[-1][-1])"
   ]
  },
  {
   "cell_type": "markdown",
   "metadata": {},
   "source": [
    "# 編集距離(edit distance)\n",
    "2つの文字列`S, T`の類似度を測るもの\n",
    "- 変更：S中の文字を1つ選んで任意の文字に変更する\n",
    "- 削除：S中の文字を1つ選んで削除する\n",
    "- 挿入：Sの好きな箇所に好きな文字を1文字挿入する(Tをの文字を1つ選んで削除する)\n",
    "\n",
    "`dp[i][j]`←Sの最初のi文字分とTの最初のj文字分の編集距離\n",
    "- 変更操作\n",
    "    - `S[i - 1] = T[i - 1]`のとき  \n",
    "        `min(dp[i][j], dp[i - 1][j - 1]`\n",
    "    - `S[i - 1] != T[i - 1]`のとき  \n",
    "        `min(dp[i][j], dp[i - 1][j - 1] + 1`\n",
    "\n",
    "- 削除操作  \n",
    "    `min(dp[i][j], dp[i - 1][j] + 1`\n",
    "\n",
    "- 挿入操作  \n",
    "    `min(dp[i][j], dp[i][j - 1] + 1`"
   ]
  },
  {
   "cell_type": "markdown",
   "metadata": {},
   "source": [
    "初期設定"
   ]
  },
  {
   "cell_type": "code",
   "execution_count": 65,
   "metadata": {},
   "outputs": [
    {
     "name": "stdout",
     "output_type": "stream",
     "text": [
      "logistic algorithm\n",
      "[[0, inf, inf, inf, inf, inf, inf, inf, inf, inf], [inf, inf, inf, inf, inf, inf, inf, inf, inf, inf], [inf, inf, inf, inf, inf, inf, inf, inf, inf, inf], [inf, inf, inf, inf, inf, inf, inf, inf, inf, inf], [inf, inf, inf, inf, inf, inf, inf, inf, inf, inf], [inf, inf, inf, inf, inf, inf, inf, inf, inf, inf], [inf, inf, inf, inf, inf, inf, inf, inf, inf, inf], [inf, inf, inf, inf, inf, inf, inf, inf, inf, inf], [inf, inf, inf, inf, inf, inf, inf, inf, inf, inf]]\n"
     ]
    }
   ],
   "source": [
    "S, T = input().split()\n",
    "LEN1 = len(S)\n",
    "LEN2 = len(T)\n",
    "dp =[[float('inf')] * (LEN2 + 1) for _ in range(LEN1 + 1)]\n",
    "dp[0][0] = 0\n",
    "print(dp)\n"
   ]
  },
  {
   "cell_type": "markdown",
   "metadata": {},
   "source": [
    "処理"
   ]
  },
  {
   "cell_type": "code",
   "execution_count": 66,
   "metadata": {},
   "outputs": [
    {
     "name": "stdout",
     "output_type": "stream",
     "text": [
      "6\n",
      "[[0, 1, 2, 3, 4, 5, 6, 7, 8, 9], [1, 1, 1, 2, 3, 4, 5, 6, 7, 8], [2, 2, 2, 2, 2, 3, 4, 5, 6, 7], [3, 3, 3, 2, 3, 3, 4, 5, 6, 7], [4, 4, 4, 3, 3, 4, 3, 4, 5, 6], [5, 5, 5, 4, 4, 4, 4, 4, 5, 6], [6, 6, 6, 5, 5, 5, 5, 4, 5, 6], [7, 7, 7, 6, 6, 6, 5, 5, 5, 6], [8, 8, 8, 7, 7, 7, 6, 6, 6, 6]]\n"
     ]
    }
   ],
   "source": [
    "for i in range(LEN1 + 1):\n",
    "    for j in range(LEN2 + 1):\n",
    "        # 変更操作\n",
    "        if((i > 0) and (j > 0)):\n",
    "            if(S[i - 1] == T[j - 1]):\n",
    "                dp[i][j] = min(dp[i][j], dp[i - 1][j - 1])\n",
    "            else:\n",
    "                dp[i][j] = min(dp[i][j], dp[i - 1][j - 1] + 1)\n",
    "        # 削除操作\n",
    "        if(i > 0):\n",
    "            dp[i][j] = min(dp[i][j], dp[i - 1][j] + 1)\n",
    "        # 挿入操作\n",
    "        if(j > 0):\n",
    "            dp[i][j] = min(dp[i][j], dp[i][j - 1] + 1)\n",
    "print(dp[LEN1][LEN2])\n",
    "print(dp)"
   ]
  },
  {
   "cell_type": "code",
   "execution_count": 56,
   "metadata": {},
   "outputs": [
    {
     "name": "stdout",
     "output_type": "stream",
     "text": [
      "0\n",
      "1\n",
      "2\n",
      "3\n",
      "4\n",
      "5\n",
      "6\n",
      "7\n",
      "8\n"
     ]
    }
   ],
   "source": [
    "for i in range(LEN1 + 1):\n",
    "    print(i)"
   ]
  },
  {
   "cell_type": "code",
   "execution_count": null,
   "metadata": {},
   "outputs": [],
   "source": []
  }
 ],
 "metadata": {
  "kernelspec": {
   "display_name": "Python 3",
   "language": "python",
   "name": "python3"
  },
  "language_info": {
   "codemirror_mode": {
    "name": "ipython",
    "version": 3
   },
   "file_extension": ".py",
   "mimetype": "text/x-python",
   "name": "python",
   "nbconvert_exporter": "python",
   "pygments_lexer": "ipython3",
   "version": "3.6.2"
  }
 },
 "nbformat": 4,
 "nbformat_minor": 5
}
