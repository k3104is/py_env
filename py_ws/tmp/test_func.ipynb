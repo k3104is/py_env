{
 "cells": [
  {
   "cell_type": "code",
   "execution_count": 1,
   "metadata": {},
   "outputs": [],
   "source": [
    "def print_more(func):\n",
    "  def wrapper(*args, **kwargs):\n",
    "    print('func:', func.__name__)\n",
    "    print('args:', args)\n",
    "    print('kwargs:', kwargs)\n",
    "    result = func(*args, **kwargs)\n",
    "    print('result:', result)\n",
    "    return result\n",
    "  return wrapper"
   ]
  },
  {
   "cell_type": "code",
   "execution_count": 2,
   "metadata": {},
   "outputs": [],
   "source": [
    "def print_info(func):\n",
    "  def wrapper(*args, **kwargs):\n",
    "    print('start')\n",
    "    result = func(*args, **kwargs)\n",
    "    print('end')\n",
    "    return result\n",
    "  return wrapper"
   ]
  },
  {
   "cell_type": "code",
   "execution_count": 3,
   "metadata": {},
   "outputs": [
    {
     "name": "stdout",
     "output_type": "stream",
     "text": [
      "start\n",
      "func: add_num\n",
      "args: (10, 20)\n",
      "kwargs: {}\n",
      "result: 30\n",
      "end\n",
      "30\n"
     ]
    }
   ],
   "source": [
    "@print_info\n",
    "@print_more\n",
    "def add_num(a, b):\n",
    "  return a + b\n",
    "r = add_num(10, 20)\n",
    "print(r)"
   ]
  },
  {
   "cell_type": "code",
   "execution_count": 5,
   "metadata": {},
   "outputs": [
    {
     "name": "stdout",
     "output_type": "stream",
     "text": [
      "Mon\n",
      "Tue\n",
      "Wed\n",
      "Thu\n",
      "Fri\n",
      "Sat\n",
      "Sun\n",
      "mon\n",
      "tue\n",
      "wed\n",
      "thu\n",
      "fri\n",
      "sat\n",
      "sun\n"
     ]
    }
   ],
   "source": [
    "l = ['Mon', 'tue', 'wed', 'Thu', 'Fri', 'sat', 'Sun']\n",
    "\n",
    "def change_words(words, func):\n",
    "  for word in words:\n",
    "    print(func(word))\n",
    "\n",
    "change_words(l, lambda word: word.capitalize())\n",
    "change_words(l, lambda word: word.lower())"
   ]
  },
  {
   "cell_type": "code",
   "execution_count": 7,
   "metadata": {},
   "outputs": [
    {
     "name": "stdout",
     "output_type": "stream",
     "text": [
      "Good morning\n",
      "@@@@@\n",
      "Good afternoon\n",
      "@@@@@\n",
      "Good night\n"
     ]
    }
   ],
   "source": [
    "def greeting():\n",
    "  yield 'Good morning'\n",
    "  yield 'Good afternoon'\n",
    "  yield 'Good night'\n",
    "\n",
    "g = greeting()\n",
    "print(next(g))\n",
    "print('@@@@@')\n",
    "print(next(g))\n",
    "print('@@@@@')\n",
    "print(next(g))"
   ]
  },
  {
   "cell_type": "code",
   "execution_count": 9,
   "metadata": {},
   "outputs": [
    {
     "name": "stdout",
     "output_type": "stream",
     "text": [
      "[1, 2, 3, 4, 5]\n",
      "[2, 4]\n"
     ]
    }
   ],
   "source": [
    "t = (1,2,3,4,5)\n",
    "\n",
    "r = [i for i in t]\n",
    "print(r)\n",
    "r = [i for i in t if i % 2 == 0]\n",
    "print(r)"
   ]
  },
  {
   "cell_type": "code",
   "execution_count": 10,
   "metadata": {},
   "outputs": [
    {
     "name": "stdout",
     "output_type": "stream",
     "text": [
      "[5, 6, 7, 8, 9, 10, 10, 12, 14, 16, 18, 20, 15, 18, 21, 24, 27, 30, 20, 24, 28, 32, 36, 40, 25, 30, 35, 40, 45, 50]\n"
     ]
    }
   ],
   "source": [
    "t = (1,2,3,4,5)\n",
    "t2 = (5,6,7,8,9,10)\n",
    "\n",
    "r = [i * j for i in t for j in t2]\n",
    "print(r)"
   ]
  },
  {
   "cell_type": "code",
   "execution_count": 11,
   "metadata": {},
   "outputs": [
    {
     "name": "stdout",
     "output_type": "stream",
     "text": [
      "{'mon': 'coffee', 'tue': 'milk', 'wed': 'water'}\n"
     ]
    }
   ],
   "source": [
    "w = ['mon', 'tue', 'wed']\n",
    "f = ['coffee', 'milk', 'water']\n",
    "\n",
    "d = {x: y for x, y in zip(w,f)}\n",
    "print(d)"
   ]
  },
  {
   "cell_type": "code",
   "execution_count": 12,
   "metadata": {},
   "outputs": [
    {
     "name": "stdout",
     "output_type": "stream",
     "text": [
      "[0, 1, 2, 3, 4, 5, 6, 7, 8, 9]\n"
     ]
    }
   ],
   "source": [
    "s = [i for i in range(10)]\n",
    "print(s)"
   ]
  },
  {
   "cell_type": "code",
   "execution_count": 13,
   "metadata": {},
   "outputs": [
    {
     "name": "stdout",
     "output_type": "stream",
     "text": [
      "[0, 2, 4, 6, 8]\n"
     ]
    }
   ],
   "source": [
    "s = [i for i in range(10) if i % 2 == 0]\n",
    "print(s)"
   ]
  },
  {
   "cell_type": "code",
   "execution_count": 14,
   "metadata": {},
   "outputs": [
    {
     "name": "stdout",
     "output_type": "stream",
     "text": [
      "<class 'generator'>\n",
      "0\n",
      "1\n",
      "2\n",
      "3\n",
      "4\n",
      "5\n"
     ]
    }
   ],
   "source": [
    "g = (i for i in range(10))\n",
    "print(type(g))\n",
    "print(next(g))\n",
    "print(next(g))\n",
    "print(next(g))\n",
    "print(next(g))\n",
    "print(next(g))\n",
    "print(next(g))"
   ]
  }
 ],
 "metadata": {
  "kernelspec": {
   "display_name": "Python 3",
   "language": "python",
   "name": "python3"
  },
  "language_info": {
   "codemirror_mode": {
    "name": "ipython",
    "version": 3
   },
   "file_extension": ".py",
   "mimetype": "text/x-python",
   "name": "python",
   "nbconvert_exporter": "python",
   "pygments_lexer": "ipython3",
   "version": "3.11.6"
  }
 },
 "nbformat": 4,
 "nbformat_minor": 2
}
