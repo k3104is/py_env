{
 "cells": [
  {
   "cell_type": "code",
   "execution_count": 1,
   "metadata": {},
   "outputs": [
    {
     "name": "stdout",
     "output_type": "stream",
     "text": [
      "6\n"
     ]
    }
   ],
   "source": [
    "word = 'python'\n",
    "print(len(word))\n",
    "\n",
    "s = 'My name is Mike. Hi Mike.'"
   ]
  },
  {
   "cell_type": "code",
   "execution_count": 2,
   "metadata": {},
   "outputs": [
    {
     "name": "stdout",
     "output_type": "stream",
     "text": [
      "False\n",
      "11\n",
      "20\n",
      "My name is mike. hi mike.\n",
      "My Name Is Mike. Hi Mike.\n",
      "MY NAME IS MIKE. HI MIKE.\n",
      "my name is mike. hi mike.\n",
      "My name is Nancy. Hi Nancy.\n"
     ]
    }
   ],
   "source": [
    "print(s.startswith('X'))\n",
    "print(s.find('Mike'))\n",
    "print(s.rfind('Mike'))\n",
    "print(s.capitalize())\n",
    "print(s.title())\n",
    "print(s.upper())\n",
    "print(s.lower())\n",
    "print(s.replace('Mike', 'Nancy'))"
   ]
  },
  {
   "cell_type": "code",
   "execution_count": 3,
   "metadata": {},
   "outputs": [
    {
     "name": "stdout",
     "output_type": "stream",
     "text": [
      "a is 1 2 3\n",
      "a is 3 2 1\n"
     ]
    }
   ],
   "source": [
    "x, y, z = 1, 2, 3\n",
    "print(f'a is {x} {y} {z}')\n",
    "print(f'a is {z} {y} {x}')"
   ]
  }
 ],
 "metadata": {
  "kernelspec": {
   "display_name": "Python 3",
   "language": "python",
   "name": "python3"
  },
  "language_info": {
   "codemirror_mode": {
    "name": "ipython",
    "version": 3
   },
   "file_extension": ".py",
   "mimetype": "text/x-python",
   "name": "python",
   "nbconvert_exporter": "python",
   "pygments_lexer": "ipython3",
   "version": "3.11.6"
  }
 },
 "nbformat": 4,
 "nbformat_minor": 2
}
