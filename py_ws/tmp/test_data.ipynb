{
 "cells": [
  {
   "cell_type": "code",
   "execution_count": 1,
   "metadata": {},
   "outputs": [
    {
     "name": "stdout",
     "output_type": "stream",
     "text": [
      "[1, 2, 3, 4, 5, 6, 7, 8, 9, 10, 100]\n",
      "[200, 1, 2, 3, 4, 5, 6, 7, 8, 9, 10, 100]\n",
      "[200, 1, 2, 3, 4, 5, 6, 7, 8, 9, 10]\n",
      "[1, 2, 3, 4, 5, 6, 7, 8, 9, 10]\n",
      "##################################################\n"
     ]
    }
   ],
   "source": [
    "n = [1,2,3,4,5,6,7,8,9,10]\n",
    "n.append(100)\n",
    "print(n)\n",
    "n.insert(0, 200)\n",
    "print(n)\n",
    "n.pop()\n",
    "print(n)\n",
    "n.pop(0)\n",
    "print(n)\n",
    "print('#' * 50)\n"
   ]
  },
  {
   "cell_type": "code",
   "execution_count": 2,
   "metadata": {},
   "outputs": [
    {
     "name": "stdout",
     "output_type": "stream",
     "text": [
      "2\n",
      "exist\n",
      "[1, 1, 2, 2, 3, 3, 4, 5]\n",
      "[5, 4, 3, 3, 2, 2, 1, 1]\n",
      "[1, 1, 2, 2, 3, 3, 4, 5]\n",
      "##################################################\n"
     ]
    }
   ],
   "source": [
    "r = [1,2,3,4,5,1,2,3]\n",
    "print(r.index(3))\n",
    "if 5 in r:\n",
    "  print('exist')\n",
    "r.sort()\n",
    "print(r)\n",
    "r.sort(reverse=True)\n",
    "print(r)\n",
    "r.reverse()\n",
    "print(r)\n",
    "print('#' * 50)\n"
   ]
  },
  {
   "cell_type": "code",
   "execution_count": 3,
   "metadata": {},
   "outputs": [
    {
     "name": "stdout",
     "output_type": "stream",
     "text": [
      "['My', 'name', 'is', 'Mike.', 'Hi', 'Mike.']\n",
      "My name is Mike. Hi Mike.\n"
     ]
    }
   ],
   "source": [
    "s = 'My name is Mike. Hi Mike.'\n",
    "to_split = s.split(' ')\n",
    "print(to_split)\n",
    "x = ' '.join(to_split)\n",
    "print(x)\n"
   ]
  },
  {
   "cell_type": "code",
   "execution_count": 4,
   "metadata": {},
   "outputs": [
    {
     "name": "stdout",
     "output_type": "stream",
     "text": [
      "##################################################\n",
      "y = [100, 2, 3, 4, 5]\n",
      "x = [1, 2, 3, 4, 5]\n",
      "##################################################\n"
     ]
    }
   ],
   "source": [
    "print('#' * 50)\n",
    "x = [1,2,3,4,5]\n",
    "y = x.copy()\n",
    "y[0] = 100\n",
    "print(f'y = {y}')\n",
    "print(f'x = {x}')\n",
    "print('#' * 50)\n"
   ]
  },
  {
   "cell_type": "code",
   "execution_count": 5,
   "metadata": {},
   "outputs": [
    {
     "name": "stdout",
     "output_type": "stream",
     "text": [
      "10 20\n",
      "100 200\n",
      "200 100\n",
      "##################################################\n"
     ]
    }
   ],
   "source": [
    "num_tuple = (10, 20)\n",
    "x, y = num_tuple\n",
    "print(x, y)\n",
    "a = 100\n",
    "b = 200\n",
    "print(a, b)\n",
    "a, b = b, a\n",
    "print(a, b)\n",
    "print('#' * 50)\n"
   ]
  },
  {
   "cell_type": "code",
   "execution_count": 6,
   "metadata": {},
   "outputs": [
    {
     "name": "stdout",
     "output_type": "stream",
     "text": [
      "100\n"
     ]
    }
   ],
   "source": [
    "fruits = {\n",
    "  'apple': 100,\n",
    "  'banana': 200,\n",
    "  'orange': 300\n",
    "}\n",
    "print(fruits['apple'])\n"
   ]
  },
  {
   "cell_type": "code",
   "execution_count": 7,
   "metadata": {},
   "outputs": [
    {
     "name": "stdout",
     "output_type": "stream",
     "text": [
      "##################################################\n",
      "{1, 2, 3, 4, 5, 6}\n",
      "{1, 4, 5}\n",
      "{7}\n",
      "{2, 3, 6}\n",
      "{1, 2, 3, 4, 5, 6, 7}\n",
      "{1, 4, 5, 7}\n",
      "{'banana', 'apple'}\n"
     ]
    }
   ],
   "source": [
    "print('#' * 50)\n",
    "a = {1,2,2,3,4,4,5,6}\n",
    "print(a)\n",
    "b = {2,3,3,6,7}\n",
    "print(a - b)\n",
    "print(b - a)\n",
    "print(a & b)\n",
    "print(a | b)\n",
    "print(a ^ b)\n",
    "f = ['apple', 'banana', 'apple', 'banana']\n",
    "kind = set(f)\n",
    "print(kind)"
   ]
  }
 ],
 "metadata": {
  "kernelspec": {
   "display_name": "Python 3",
   "language": "python",
   "name": "python3"
  },
  "language_info": {
   "codemirror_mode": {
    "name": "ipython",
    "version": 3
   },
   "file_extension": ".py",
   "mimetype": "text/x-python",
   "name": "python",
   "nbconvert_exporter": "python",
   "pygments_lexer": "ipython3",
   "version": "3.11.6"
  }
 },
 "nbformat": 4,
 "nbformat_minor": 2
}
