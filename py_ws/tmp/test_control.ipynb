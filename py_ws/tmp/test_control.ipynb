{
 "cells": [
  {
   "cell_type": "code",
   "execution_count": 1,
   "metadata": {},
   "outputs": [
    {
     "name": "stdout",
     "output_type": "stream",
     "text": [
      "in\n",
      "not in\n",
      "hello\n",
      "none!!!\n",
      "##################################################\n"
     ]
    }
   ],
   "source": [
    "y = [1,2,3]\n",
    "x = 1\n",
    "if x in y:\n",
    "  print('in')\n",
    "if 100 not in y:\n",
    "  print('not in')\n",
    "\n",
    "is_ok = True\n",
    "\n",
    "if is_ok:\n",
    "  print('hello')\n",
    "\n",
    "if not is_ok:\n",
    "  print('hello')\n",
    "\n",
    "is_empty = None\n",
    "# print(help(is_empty))\n",
    "# isはオブジェクト同士が同じもの(メモリ上のまったく同じ値)かどうかを判別\n",
    "if is_empty is None:  \n",
    "  print('none!!!')\n",
    "\n",
    "print('#' * 50)\n",
    "\n"
   ]
  },
  {
   "cell_type": "code",
   "execution_count": 2,
   "metadata": {},
   "outputs": [
    {
     "name": "stdout",
     "output_type": "stream",
     "text": [
      "0\n",
      "1\n",
      "2\n",
      "3\n",
      "4\n",
      "Done\n",
      "0\n",
      "1\n",
      "2\n",
      "3\n",
      "4\n",
      "0\n",
      "next\n",
      "next\n",
      "next\n",
      "next\n",
      "next\n",
      "next\n",
      "next\n",
      "next\n",
      "next\n",
      "next\n",
      "next\n",
      "next\n",
      "next\n",
      "next\n",
      "next\n"
     ]
    }
   ],
   "source": [
    "count = 0\n",
    "while count < 5:\n",
    "  print(count)\n",
    "  count += 1\n",
    "else:\n",
    "  print('Done')\n",
    "\n",
    "count = 0\n",
    "while True:\n",
    "  if count >= 5:\n",
    "    break\n",
    "  print(count)\n",
    "  count += 1\n",
    "\n",
    "count = 0\n",
    "while count < 5:\n",
    "  if count == 1:\n",
    "    break\n",
    "  print(count)\n",
    "  count += 1\n",
    "else:\n",
    "  print('Done')\n",
    "\n",
    "while True:\n",
    "  word = input('Enter:')\n",
    "  if word == 'ok':\n",
    "    break\n",
    "  print('next')\n"
   ]
  }
 ],
 "metadata": {
  "kernelspec": {
   "display_name": "Python 3",
   "language": "python",
   "name": "python3"
  },
  "language_info": {
   "codemirror_mode": {
    "name": "ipython",
    "version": 3
   },
   "file_extension": ".py",
   "mimetype": "text/x-python",
   "name": "python",
   "nbconvert_exporter": "python",
   "pygments_lexer": "ipython3",
   "version": "3.0.0"
  }
 },
 "nbformat": 4,
 "nbformat_minor": 2
}
