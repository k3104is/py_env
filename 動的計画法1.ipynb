{
 "cells": [
  {
   "cell_type": "markdown",
   "metadata": {},
   "source": [
    "# 動的計画法(dynamic programming, DP)\n",
    "部分構造最適性(optimal substructure)：小さな部分問題についても最適性が要求される構造\n",
    "上記を順に決定していく手法を`動的計画法`とういう"
   ]
  },
  {
   "cell_type": "markdown",
   "metadata": {},
   "source": [
    "## Frog問題"
   ]
  },
  {
   "cell_type": "code",
   "execution_count": 2,
   "metadata": {},
   "outputs": [],
   "source": [
    "import numpy as np"
   ]
  },
  {
   "cell_type": "code",
   "execution_count": null,
   "metadata": {},
   "outputs": [],
   "source": [
    "# num of \n",
    "N = int(input())\n",
    "\n",
    "# cost\n",
    "h = np.zeros(N)\n",
    "for i in range(N):\n",
    "    h[i] = int(input())\n",
    "\n",
    "# dp is min cost & initialize `inf`\n",
    "dp = np.full(N, float('inf'))\n",
    "\n",
    "dp[0] = 0\n",
    "for i in range(1, N):\n",
    "    if(i == 1):\n",
    "        dp[i] = abs(h[i] - h[i - 1])\n",
    "    else:\n",
    "        dp[i] = min(dp[i - 1] + abs(h[i] - h[i - 1]), dp[i - 2] + abs(h[i] - h[i - 2]))\n",
    "print(dp[N - 1])\n",
    "    "
   ]
  },
  {
   "cell_type": "markdown",
   "metadata": {},
   "source": [
    "### 緩和(relaxation)追加\n",
    "`chmin(dv[v], dp[u] + c]`"
   ]
  },
  {
   "cell_type": "code",
   "execution_count": null,
   "metadata": {},
   "outputs": [],
   "source": [
    "# num of \n",
    "N = int(input())\n",
    "\n",
    "# relaxation\n",
    "def chmin(x, y):\n",
    "    if(x > y):\n",
    "        return y\n",
    "    else:\n",
    "        return x\n",
    "\n",
    "# cost\n",
    "h = np.zeros(N)\n",
    "for i in range(N):\n",
    "    h[i] = int(input())\n",
    "\n",
    "# dp is min cost & initialize `inf`\n",
    "dp = np.full(N, float('inf'))\n",
    "\n",
    "\n",
    "dp[0] = 0\n",
    "for i in range(1, N):\n",
    "    dp[i] = chmin(dp[i], dp[i - 1] + abs(h[i] - h[i - 1]))\n",
    "    if(i > 1):\n",
    "        dp[i] = chmin(dp[i], dp[i - 2] + abs(h[i] - h[i - 2]))\n",
    "print(dp[N - 1])\n",
    "    "
   ]
  },
  {
   "cell_type": "code",
   "execution_count": null,
   "metadata": {},
   "outputs": [],
   "source": [
    "dp = [5, 2]\n",
    "def test(x):\n",
    "    if(x[0] > x[1]):\n",
    "        x[0] = x[1]\n",
    "test(dp)\n",
    "print(dp)\n"
   ]
  },
  {
   "cell_type": "markdown",
   "metadata": {},
   "source": [
    "### メモ化再帰"
   ]
  },
  {
   "cell_type": "code",
   "execution_count": 3,
   "metadata": {},
   "outputs": [
    {
     "name": "stdout",
     "output_type": "stream",
     "text": [
      "7\n",
      "2\n",
      "9\n",
      "4\n",
      "5\n",
      "1\n",
      "6\n",
      "10\n",
      "8.0\n"
     ]
    }
   ],
   "source": [
    "#define\n",
    "INF = float('inf')\n",
    "\n",
    "# num of \n",
    "N = int(input())\n",
    "\n",
    "\n",
    "\n",
    "# cost\n",
    "h = np.zeros(N)\n",
    "for i in range(N):\n",
    "    h[i] = int(input())\n",
    "\n",
    "# dp is min cost & initialize `inf`\n",
    "dp = np.full(N, INF)\n",
    "\n",
    "\n",
    "\n",
    "# func\n",
    "\n",
    "# relaxation\n",
    "def chmin(x, y):\n",
    "    if(x > y):\n",
    "        return y\n",
    "    else:\n",
    "        return x\n",
    "\n",
    "# recursive\n",
    "def rec(i):\n",
    "    if(dp[i] < INF):\n",
    "        return dp[i]\n",
    "    if(i == 0):\n",
    "        return 0\n",
    "    res = INF\n",
    "    res = chmin(res, rec(i - 1) + abs(h[i] - h[i - 1]))\n",
    "    if(i > 1):\n",
    "        res = chmin(res, rec(i - 2) + abs(h[i] - h[i - 2]))\n",
    "    dp[i] = res\n",
    "    return dp[i]\n",
    "\n",
    "\n",
    "\n",
    "print(rec(N - 1))"
   ]
  },
  {
   "cell_type": "code",
   "execution_count": null,
   "metadata": {},
   "outputs": [],
   "source": []
  }
 ],
 "metadata": {
  "kernelspec": {
   "display_name": "Python 3",
   "language": "python",
   "name": "python3"
  },
  "language_info": {
   "codemirror_mode": {
    "name": "ipython",
    "version": 3
   },
   "file_extension": ".py",
   "mimetype": "text/x-python",
   "name": "python",
   "nbconvert_exporter": "python",
   "pygments_lexer": "ipython3",
   "version": "3.8.5"
  }
 },
 "nbformat": 4,
 "nbformat_minor": 2
}
