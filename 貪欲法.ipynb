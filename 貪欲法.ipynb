{
 "cells": [
  {
   "cell_type": "markdown",
   "metadata": {},
   "source": [
    "# 貪欲法\n",
    "後先のことを考えずに「その場での最善」を選択することを繰り返す方法論"
   ]
  },
  {
   "cell_type": "markdown",
   "metadata": {},
   "source": [
    "コイン問題"
   ]
  },
  {
   "cell_type": "code",
   "execution_count": 5,
   "metadata": {},
   "outputs": [
    {
     "name": "stdout",
     "output_type": "stream",
     "text": [
      "650\n",
      "3\n"
     ]
    }
   ],
   "source": [
    "val = [500, 100, 50, 10, 5, 1]\n",
    "\n",
    "X = int(input())\n",
    "result = 0\n",
    "for v in val:\n",
    "    add = X // v\n",
    "    X -= v * add\n",
    "    result += add\n",
    "print(result)"
   ]
  },
  {
   "cell_type": "markdown",
   "metadata": {},
   "source": [
    "### 区間スケジューリング問題(interval scheuling problem)"
   ]
  },
  {
   "cell_type": "code",
   "execution_count": 22,
   "metadata": {},
   "outputs": [
    {
     "name": "stdout",
     "output_type": "stream",
     "text": [
      "3\n",
      "1 3\n",
      "2 4\n",
      "4 6\n"
     ]
    }
   ],
   "source": [
    "N = int(input())\n",
    "inter = [list(map(int, input().split())) for _ in range(N)]\n",
    "inter.sort(key=lambda x:x[1]) # 終端時刻でソート\n"
   ]
  },
  {
   "cell_type": "code",
   "execution_count": 23,
   "metadata": {},
   "outputs": [
    {
     "name": "stdout",
     "output_type": "stream",
     "text": [
      "2\n"
     ]
    }
   ],
   "source": [
    "res = 0\n",
    "current_end_time = 0\n",
    "for i in range(N):\n",
    "    if(inter[i][0] < current_end_time):\n",
    "        continue\n",
    "    res += 1\n",
    "    current_end_time = inter[i][1]\n",
    "print(res)\n"
   ]
  },
  {
   "cell_type": "markdown",
   "metadata": {},
   "source": [
    "### Multiple Array"
   ]
  },
  {
   "cell_type": "code",
   "execution_count": 1,
   "metadata": {},
   "outputs": [
    {
     "name": "stdout",
     "output_type": "stream",
     "text": [
      "3\n",
      "5 3\n",
      "2 2\n",
      "10 6\n"
     ]
    }
   ],
   "source": [
    "N = int(input())\n",
    "ab = [list(map(int, input().split())) for _ in range(N)]\n",
    "sum = 0"
   ]
  },
  {
   "cell_type": "code",
   "execution_count": 9,
   "metadata": {},
   "outputs": [
    {
     "name": "stdout",
     "output_type": "stream",
     "text": [
      "2\n"
     ]
    }
   ],
   "source": [
    "for (a, b) in reversed(ab):\n",
    "    a += 1\n",
    "    amari = a % b\n",
    "    D = 0\n",
    "    if(amari != 0):\n",
    "        D = b - amari\n",
    "        sum += D\n",
    "print(sum)"
   ]
  },
  {
   "cell_type": "code",
   "execution_count": null,
   "metadata": {},
   "outputs": [],
   "source": []
  }
 ],
 "metadata": {
  "kernelspec": {
   "display_name": "Python 3",
   "language": "python",
   "name": "python3"
  },
  "language_info": {
   "codemirror_mode": {
    "name": "ipython",
    "version": 3
   },
   "file_extension": ".py",
   "mimetype": "text/x-python",
   "name": "python",
   "nbconvert_exporter": "python",
   "pygments_lexer": "ipython3",
   "version": "3.8.7"
  }
 },
 "nbformat": 4,
 "nbformat_minor": 2
}
