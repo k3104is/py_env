{
 "cells": [
  {
   "cell_type": "markdown",
   "metadata": {},
   "source": [
    "# 貪欲法\n",
    "後先のことを考えずに「その場での最善」を選択することを繰り返す方法論"
   ]
  },
  {
   "cell_type": "markdown",
   "metadata": {},
   "source": [
    "コイン問題"
   ]
  },
  {
   "cell_type": "code",
   "execution_count": 5,
   "metadata": {},
   "outputs": [
    {
     "name": "stdout",
     "output_type": "stream",
     "text": [
      "650\n",
      "3\n"
     ]
    }
   ],
   "source": [
    "val = [500, 100, 50, 10, 5, 1]\n",
    "\n",
    "X = int(input())\n",
    "result = 0\n",
    "for v in val:\n",
    "    add = X // v\n",
    "    X -= v * add\n",
    "    result += add\n",
    "print(result)"
   ]
  },
  {
   "cell_type": "code",
   "execution_count": null,
   "metadata": {},
   "outputs": [],
   "source": []
  },
  {
   "cell_type": "code",
   "execution_count": null,
   "metadata": {},
   "outputs": [],
   "source": []
  }
 ],
 "metadata": {
  "kernelspec": {
   "display_name": "Python 3",
   "language": "python",
   "name": "python3"
  },
  "language_info": {
   "codemirror_mode": {
    "name": "ipython",
    "version": 3
   },
   "file_extension": ".py",
   "mimetype": "text/x-python",
   "name": "python",
   "nbconvert_exporter": "python",
   "pygments_lexer": "ipython3",
   "version": "3.6.2"
  }
 },
 "nbformat": 4,
 "nbformat_minor": 2
}
