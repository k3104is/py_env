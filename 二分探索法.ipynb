{
 "cells": [
  {
   "cell_type": "markdown",
   "metadata": {},
   "source": [
    "### 二分探索法"
   ]
  },
  {
   "cell_type": "markdown",
   "metadata": {},
   "source": [
    "数あてゲーム"
   ]
  },
  {
   "cell_type": "code",
   "execution_count": 4,
   "metadata": {
    "scrolled": true
   },
   "outputs": [
    {
     "name": "stdout",
     "output_type": "stream",
     "text": [
      "game start\n",
      "Is the age less than 28.0? yes/no\n",
      "no\n",
      "Is the age less than 32.0? yes/no\n",
      "yes\n",
      "Is the age less than 30.0? yes/no\n",
      "no\n",
      "Is the age less than 31.0? yes/no\n",
      "yes\n",
      "the age is 30.0\n"
     ]
    }
   ],
   "source": [
    "print(\"game start\")\n",
    "left = 20\n",
    "right = 36\n",
    "\n",
    "while(right - left > 1):\n",
    "    mid = left + (right - left) / 2\n",
    "    print(\"Is the age less than \" + str(mid) + \"? yes/no\")\n",
    "    if(input() == \"yes\"):\n",
    "        right = mid\n",
    "    else:\n",
    "        left = mid\n",
    "print(\"the age is \" + str(left))"
   ]
  },
  {
   "cell_type": "markdown",
   "metadata": {},
   "source": [
    "ペア和を最適化"
   ]
  },
  {
   "cell_type": "markdown",
   "metadata": {},
   "source": [
    "初期設定"
   ]
  },
  {
   "cell_type": "code",
   "execution_count": 17,
   "metadata": {},
   "outputs": [
    {
     "name": "stdout",
     "output_type": "stream",
     "text": [
      "5 6\n",
      "set a\n",
      "1\n",
      "3\n",
      "5\n",
      "7\n",
      "9\n",
      "set b\n",
      "2\n",
      "4\n",
      "6\n",
      "8\n",
      "19\n"
     ]
    }
   ],
   "source": [
    "import bisect\n",
    "\n",
    "N, K = map(int, input().split())\n",
    "print(\"set a\")\n",
    "a = [int(input()) for _ in range(N)]\n",
    "print(\"set b\")\n",
    "b = [int(input()) for _ in range(N)]\n",
    "min_val = float('inf')\n",
    "b.sort()"
   ]
  },
  {
   "cell_type": "markdown",
   "metadata": {},
   "source": [
    "処理"
   ]
  },
  {
   "cell_type": "code",
   "execution_count": 32,
   "metadata": {},
   "outputs": [
    {
     "name": "stdout",
     "output_type": "stream",
     "text": [
      "inf\n",
      "inf\n",
      "7\n",
      "7\n",
      "7\n",
      "7\n",
      "7\n"
     ]
    }
   ],
   "source": [
    "min_val = float('inf')\n",
    "print(min_val)\n",
    "for i in range(N):\n",
    "    j = bisect.bisect_left(b, K - a[i])\n",
    "    print(min_val)\n",
    "    if(a[i] + b[j] < min_val):\n",
    "        min_val = a[i] + b[j]\n",
    "        print(min_val)"
   ]
  },
  {
   "cell_type": "markdown",
   "metadata": {},
   "source": [
    "### 射撃王\n",
    "N個の風船すべてについてペナルティをx以下にできるかどうか判定する問題\n",
    "制限時間が最も差し迫っているところから優先的に割って行き、すべての風船が割れたならOK\n",
    "\n",
    "二分探索してギリギリOKな部分を探す感じ\n",
    "\n",
    "「最大値の最小化」\n",
    "→`N個すべての値をx以下にできるかどうかを判定する`"
   ]
  },
  {
   "cell_type": "code",
   "execution_count": 53,
   "metadata": {},
   "outputs": [
    {
     "name": "stdout",
     "output_type": "stream",
     "text": [
      "3\n",
      "how far is baloon?\n",
      "1\n",
      "3\n",
      "5\n",
      "what is the speed? \n",
      "5\n",
      "4\n",
      "2\n"
     ]
    }
   ],
   "source": [
    "OK, NG = True, False\n",
    "N = int(input())\n",
    "print(\"how far is baloon?\")\n",
    "h = [int(input()) for _ in range(N)]\n",
    "print(\"what is the speed? \")\n",
    "s = [int(input()) for _ in range(N)]"
   ]
  },
  {
   "cell_type": "markdown",
   "metadata": {},
   "source": [
    "処理"
   ]
  },
  {
   "cell_type": "code",
   "execution_count": 62,
   "metadata": {},
   "outputs": [
    {
     "name": "stdout",
     "output_type": "stream",
     "text": [
      "9.0\n"
     ]
    }
   ],
   "source": [
    "left = 0\n",
    "right = 2**10\n",
    "\n",
    "while(right - left > 1):\n",
    "    mid = (left + right) / 2\n",
    "    result = OK\n",
    "    t = [0] * N\n",
    "    \n",
    "    # midより高いものが1つでもいたらNG、\n",
    "    # OKの場合は各タイムアウトまでの時間を求める\n",
    "    for i in range(N):\n",
    "        if(mid < h[i]):\n",
    "            result = NG\n",
    "        else:\n",
    "            t[i] = (mid - h[i]) / s[i]\n",
    "\n",
    "    # ソートして1つでも間に合わなければNG\n",
    "    t.sort()\n",
    "    for i in range(N):\n",
    "        if(t[i] - i < 0):\n",
    "            result = NG\n",
    "    \n",
    "    # 結果判定：OKなら高度のmaxをmidに下げ、NGなら高度のminをmidに上げる\n",
    "    if(result == OK):\n",
    "        right = mid\n",
    "    else:\n",
    "        left = mid\n",
    "print(right)"
   ]
  },
  {
   "cell_type": "markdown",
   "metadata": {},
   "source": [
    "### 6.1"
   ]
  },
  {
   "cell_type": "markdown",
   "metadata": {},
   "source": [
    "初期設定"
   ]
  },
  {
   "cell_type": "code",
   "execution_count": 47,
   "metadata": {},
   "outputs": [
    {
     "name": "stdout",
     "output_type": "stream",
     "text": [
      "5\n",
      "10\n",
      "8\n",
      "6\n",
      "4\n",
      "2\n"
     ]
    }
   ],
   "source": [
    "import copy\n",
    "N = int(input())\n",
    "a = [int(input()) for _ in range(N)]\n",
    "b = copy.deepcopy(a)\n",
    "a.sort()\n",
    "\n",
    "left = 0\n",
    "right = N - 1"
   ]
  },
  {
   "cell_type": "code",
   "execution_count": 67,
   "metadata": {},
   "outputs": [
    {
     "name": "stdout",
     "output_type": "stream",
     "text": [
      "[2, 4, 6, 8, 10]\n",
      "[10, 8, 6, 4, 2]\n"
     ]
    }
   ],
   "source": [
    "print(a)\n",
    "print(b)\n",
    "def bin_search(x):\n",
    "    left = 0\n",
    "    right = N - 1\n",
    "    while(right > left):\n",
    "        mid = left + (right - left) // 2\n",
    "        if(a[mid] == x):\n",
    "            return mid\n",
    "        elif(x < a[mid]):\n",
    "            right = mid - 1\n",
    "        else:\n",
    "            left = mid + 1\n",
    "    return right"
   ]
  },
  {
   "cell_type": "code",
   "execution_count": 69,
   "metadata": {},
   "outputs": [
    {
     "name": "stdout",
     "output_type": "stream",
     "text": [
      "[4, 3, 2, 1, 0]\n"
     ]
    }
   ],
   "source": [
    "result = []\n",
    "for i in b:\n",
    "    result.append(bin_search(i))\n",
    "print(result)"
   ]
  },
  {
   "cell_type": "markdown",
   "metadata": {},
   "source": [
    "### 6.2"
   ]
  },
  {
   "cell_type": "code",
   "execution_count": 82,
   "metadata": {},
   "outputs": [
    {
     "name": "stdout",
     "output_type": "stream",
     "text": [
      "2\n",
      "1\n",
      "2\n",
      "2\n",
      "3\n",
      "3\n",
      "4\n",
      "4\n"
     ]
    }
   ],
   "source": [
    "import bisect\n",
    "\n",
    "N =int(input())\n",
    "a = [int(input()) for _ in range(N)]\n",
    "b = [int(input()) for _ in range(N)]\n",
    "c = [int(input()) for _ in range(N)]\n",
    "a.sort()\n",
    "b.sort()\n",
    "c.sort()\n",
    "result = 0\n",
    "for i in range(N):\n",
    "    a_l = bisect.bisect_left(a, b[i])\n",
    "    c_l = bisect.bisect_right(c, b[i])\n",
    "    k1 = a_l\n",
    "    k2 = N - c_l\n",
    "    result += k1 * k2\n",
    "print(result)"
   ]
  },
  {
   "cell_type": "code",
   "execution_count": 91,
   "metadata": {},
   "outputs": [
    {
     "name": "stdout",
     "output_type": "stream",
     "text": [
      "2\n"
     ]
    }
   ],
   "source": [
    "arr = [10, 20, 30, 40, 50, 60]\n",
    "ret = bisect.bisect_left(arr, 30)\n",
    "print(ret)"
   ]
  },
  {
   "cell_type": "markdown",
   "metadata": {},
   "source": [
    "### bisectの違い\n",
    "- bisect.bisect_left  \n",
    "    左にいくつあるか\n",
    "- bisect.bisect_right  \n",
    "    自分をいれて左にいくつあるか"
   ]
  },
  {
   "cell_type": "code",
   "execution_count": null,
   "metadata": {},
   "outputs": [],
   "source": []
  }
 ],
 "metadata": {
  "kernelspec": {
   "display_name": "Python 3",
   "language": "python",
   "name": "python3"
  },
  "language_info": {
   "codemirror_mode": {
    "name": "ipython",
    "version": 3
   },
   "file_extension": ".py",
   "mimetype": "text/x-python",
   "name": "python",
   "nbconvert_exporter": "python",
   "pygments_lexer": "ipython3",
   "version": "3.6.2"
  }
 },
 "nbformat": 4,
 "nbformat_minor": 2
}
